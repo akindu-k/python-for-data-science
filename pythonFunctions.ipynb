{
  "nbformat": 4,
  "nbformat_minor": 0,
  "metadata": {
    "colab": {
      "provenance": [],
      "gpuType": "T4"
    },
    "kernelspec": {
      "name": "python3",
      "display_name": "Python 3"
    },
    "language_info": {
      "name": "python"
    },
    "accelerator": "GPU"
  },
  "cells": [
    {
      "cell_type": "code",
      "execution_count": 1,
      "metadata": {
        "colab": {
          "base_uri": "https://localhost:8080/"
        },
        "id": "tjdOkggokfEY",
        "outputId": "1375f561-c493-4451-e7f2-7e0229d2dc75"
      },
      "outputs": [
        {
          "output_type": "execute_result",
          "data": {
            "text/plain": [
              "3"
            ]
          },
          "metadata": {},
          "execution_count": 1
        }
      ],
      "source": [
        "x = 1\n",
        "y = 2\n",
        "x + y"
      ]
    },
    {
      "cell_type": "code",
      "source": [
        "x"
      ],
      "metadata": {
        "colab": {
          "base_uri": "https://localhost:8080/"
        },
        "id": "yCJg4f7zkpzu",
        "outputId": "7c41bfbd-0037-4388-8333-9a13f33684a6"
      },
      "execution_count": 2,
      "outputs": [
        {
          "output_type": "execute_result",
          "data": {
            "text/plain": [
              "1"
            ]
          },
          "metadata": {},
          "execution_count": 2
        }
      ]
    },
    {
      "cell_type": "code",
      "source": [
        "def add_numbers(x,y):\n",
        "    return x+y;\n",
        "\n",
        "add_numbers(1,2)"
      ],
      "metadata": {
        "colab": {
          "base_uri": "https://localhost:8080/"
        },
        "id": "LroCiV7Fkt8-",
        "outputId": "75498bf6-b702-4068-a6ee-1b3eac1572b2"
      },
      "execution_count": 1,
      "outputs": [
        {
          "output_type": "execute_result",
          "data": {
            "text/plain": [
              "3"
            ]
          },
          "metadata": {},
          "execution_count": 1
        }
      ]
    },
    {
      "cell_type": "code",
      "source": [
        "def add_three_numbers(x,y,z):\n",
        "    return x+y+z;\n",
        "\n",
        "add_three_numbers(1,2,3)"
      ],
      "metadata": {
        "colab": {
          "base_uri": "https://localhost:8080/"
        },
        "id": "WDDy-8tIlCvC",
        "outputId": "a49b47f9-7aa0-49dc-b533-8e1df3654923"
      },
      "execution_count": 2,
      "outputs": [
        {
          "output_type": "execute_result",
          "data": {
            "text/plain": [
              "6"
            ]
          },
          "metadata": {},
          "execution_count": 2
        }
      ]
    },
    {
      "cell_type": "code",
      "source": [
        "def add_three_numbers(x,y,z=None):\n",
        "    if(z == None):\n",
        "        return x + y;\n",
        "    else:\n",
        "        return x+y+z;\n",
        "\n",
        "add_three_numbers(1,2)"
      ],
      "metadata": {
        "colab": {
          "base_uri": "https://localhost:8080/"
        },
        "id": "E9DTwg_zlTr0",
        "outputId": "27a2ebce-db62-47e4-dbff-63b508742f77"
      },
      "execution_count": 3,
      "outputs": [
        {
          "output_type": "execute_result",
          "data": {
            "text/plain": [
              "3"
            ]
          },
          "metadata": {},
          "execution_count": 3
        }
      ]
    },
    {
      "cell_type": "code",
      "source": [
        "def add_three_numbers(x,y,z=None, flag = False):\n",
        "    if (flag):\n",
        "        print(\"%s\"%\"flag is true\")\n",
        "    if(z == None):\n",
        "        return x + y;\n",
        "    else:\n",
        "        return x+y+z;\n",
        "\n",
        "add_three_numbers(1,2,flag=True)"
      ],
      "metadata": {
        "colab": {
          "base_uri": "https://localhost:8080/"
        },
        "outputId": "f7a3ca74-19ff-4084-eee1-ed8d9fd32282",
        "id": "6VPWekHampv0"
      },
      "execution_count": 4,
      "outputs": [
        {
          "output_type": "stream",
          "name": "stdout",
          "text": [
            "flag is true\n"
          ]
        },
        {
          "output_type": "execute_result",
          "data": {
            "text/plain": [
              "3"
            ]
          },
          "metadata": {},
          "execution_count": 4
        }
      ]
    },
    {
      "cell_type": "code",
      "source": [
        "def add_numbers(x,y):\n",
        "    return x+y;\n",
        "\n",
        "a = add_numbers(1,2)\n",
        "a"
      ],
      "metadata": {
        "colab": {
          "base_uri": "https://localhost:8080/"
        },
        "id": "KuC1xvFfm_VX",
        "outputId": "a8c273cd-a7b4-49ca-a059-269659eb19ca"
      },
      "execution_count": 5,
      "outputs": [
        {
          "output_type": "execute_result",
          "data": {
            "text/plain": [
              "3"
            ]
          },
          "metadata": {},
          "execution_count": 5
        }
      ]
    },
    {
      "cell_type": "code",
      "source": [
        "def do_math(a,b,kind=None):\n",
        "    if (kind == \"add\"):\n",
        "        return a+b;\n",
        "    else:\n",
        "        return a-b;\n",
        "\n",
        "do_math(1,2)"
      ],
      "metadata": {
        "colab": {
          "base_uri": "https://localhost:8080/"
        },
        "id": "5Ic6iU4mnivA",
        "outputId": "6d13ede5-75a8-4ec0-c4b4-7a52867a0391"
      },
      "execution_count": 6,
      "outputs": [
        {
          "output_type": "execute_result",
          "data": {
            "text/plain": [
              "-1"
            ]
          },
          "metadata": {},
          "execution_count": 6
        }
      ]
    }
  ]
}